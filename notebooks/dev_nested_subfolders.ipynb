{
 "cells": [
  {
   "cell_type": "code",
   "execution_count": 1,
   "metadata": {
    "collapsed": true
   },
   "outputs": [],
   "source": [
    "import os\n",
    "import glob\n",
    "from shutil import move"
   ]
  },
  {
   "cell_type": "code",
   "execution_count": 2,
   "outputs": [],
   "source": [
    "dir_list = glob.glob(\"../../fits_export/IGS/HESSIU20/*\")\n",
    "root = dir_list[0][:-16]\n",
    "\n",
    "for ii in range(len(dir_list)):\n",
    "    runs = dir_list[ii][-16:]\n",
    "    dirdir_list = glob.glob(os.path.join(root, runs+\"/*\"))\n",
    "    for jj in range(len(dirdir_list)):\n",
    "        run = dirdir_list[jj][-9:]\n",
    "        for filename in os.listdir(os.path.join(root, runs, run)):\n",
    "            move(os.path.join(root, runs, run, filename), os.path.join(root, filename))\n",
    "        os.rmdir(os.path.join(root, runs, run))\n",
    "    os.rmdir(os.path.join(root, runs))"
   ],
   "metadata": {
    "collapsed": false,
    "pycharm": {
     "name": "#%%\n"
    }
   }
  }
 ],
 "metadata": {
  "kernelspec": {
   "display_name": "Python 3",
   "language": "python",
   "name": "python3"
  },
  "language_info": {
   "codemirror_mode": {
    "name": "ipython",
    "version": 2
   },
   "file_extension": ".py",
   "mimetype": "text/x-python",
   "name": "python",
   "nbconvert_exporter": "python",
   "pygments_lexer": "ipython2",
   "version": "2.7.6"
  }
 },
 "nbformat": 4,
 "nbformat_minor": 0
}